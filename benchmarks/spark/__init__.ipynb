{
 "cells": [],
 "metadata": {
  "jupytext": {
   "cell_metadata_filter": "-all",
   "formats": "ipynb,py"
  }
 },
 "nbformat": 4,
 "nbformat_minor": 2
}
