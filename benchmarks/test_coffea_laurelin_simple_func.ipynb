{
 "cells": [
  {
   "cell_type": "code",
   "execution_count": null,
   "metadata": {},
   "outputs": [],
   "source": [
    "import pytest\n",
    "import pyspark.sql\n",
    "from pyarrow.compat import guid"
   ]
  },
  {
   "cell_type": "code",
   "execution_count": null,
   "metadata": {},
   "outputs": [],
   "source": [
    "from coffea import hist\n",
    "from coffea.analysis_objects import JaggedCandidateArray\n",
    "import coffea.processor as processor\n",
    "from coffea.processor.spark.detail import (_spark_initialize,\n",
    "                                           _spark_make_dfs,\n",
    "                                           _spark_stop)\n",
    "from coffea.processor.spark.spark_executor import spark_executor\n",
    "from coffea.processor.test_items import NanoTestProcessor\n",
    "from coffea.processor import run_spark_job"
   ]
  },
  {
   "cell_type": "code",
   "execution_count": null,
   "metadata": {},
   "outputs": [],
   "source": [
    "from pyspark.sql.types import BinaryType, StringType, StructType, StructField\n",
    "import pyspark.sql.functions as fn"
   ]
  },
  {
   "cell_type": "code",
   "execution_count": null,
   "metadata": {
    "lines_to_next_cell": 2
   },
   "outputs": [],
   "source": [
    "from jinja2 import Environment, PackageLoader, select_autoescape\n",
    "import pickle as pkl\n",
    "import lz4.frame as lz4f"
   ]
  },
  {
   "cell_type": "markdown",
   "metadata": {},
   "source": [
    "file = {'test': ['root://eospublic.cern.ch//eos/user/o/oshadura/coffea/nano_lgray.root']}"
   ]
  },
  {
   "cell_type": "code",
   "execution_count": null,
   "metadata": {},
   "outputs": [],
   "source": [
    "file = {\n",
    "    'test': { 'files': ['root://eosuser//eos/user/o/oshadura/coffea/nano_lgray.root'],\n",
    "             'treename': 'Events'\n",
    "            }\n",
    "}"
   ]
  },
  {
   "cell_type": "code",
   "execution_count": null,
   "metadata": {
    "lines_to_next_cell": 1
   },
   "outputs": [],
   "source": [
    "available_laurelin_version = [(\"edu.vanderbilt.accre:laurelin:1.0.1-SNAPSHOT\")]"
   ]
  },
  {
   "cell_type": "code",
   "execution_count": null,
   "metadata": {
    "lines_to_next_cell": 1
   },
   "outputs": [],
   "source": [
    "def spark_session_startup():\n",
    "    spark_config = pyspark.sql.SparkSession.builder \\\n",
    "        .appName('spark-executor-test') \\\n",
    "        .master('local[*]') \\\n",
    "        .config('spark.driver.memory', '4g') \\\n",
    "        .config('spark.executor.memory', '4g') \\\n",
    "        .config('spark.sql.execution.arrow.enabled','true') \\\n",
    "        .config('spark.sql.execution.arrow.maxRecordsPerBatch', 200000)\n",
    "    spark_session = _spark_initialize(config=spark_config, log_level='WARN', \n",
    "                          spark_progress=False, laurelin_version='1.0.1-SNAPSHOT')\n",
    "    return spark_session"
   ]
  },
  {
   "cell_type": "code",
   "execution_count": null,
   "metadata": {
    "lines_to_next_cell": 1
   },
   "outputs": [],
   "source": [
    "def laurelin_read_loading(laurelin_version, file):\n",
    "    spark_session = spark_session_startup()\n",
    "    df = spark_session.read.format('edu.vanderbilt.accre.laurelin.Root') \\\n",
    "            .option(\"tree\", \"Events\") \\\n",
    "            .load(file['test'])\n",
    "    df.printSchema()\n",
    "    return df"
   ]
  },
  {
   "cell_type": "code",
   "execution_count": null,
   "metadata": {
    "lines_to_next_cell": 1
   },
   "outputs": [],
   "source": [
    "def laurelin_read_select(laurelin_version, file):\n",
    "    spark_session = spark_session_startup()\n",
    "    df = laurelin_read_loading(laurelin_version, file)\n",
    "    df_final = df.select(*['nMuon','Muon_pt','Muon_eta','Muon_phi','Muon_mass'])\n",
    "    df_final.printSchema()"
   ]
  },
  {
   "cell_type": "code",
   "execution_count": null,
   "metadata": {
    "lines_to_next_cell": 1
   },
   "outputs": [],
   "source": [
    "def laurelin_read_show(laurelin_version, file):\n",
    "    spark_session = spark_session_startup()\n",
    "    df = laurelin_read_loading(laurelin_version, file)\n",
    "    df_final = df.withColumn('dataset', fn.lit('test'))\n",
    "    df_final.printSchema()"
   ]
  },
  {
   "cell_type": "code",
   "execution_count": null,
   "metadata": {
    "lines_to_next_cell": 1
   },
   "outputs": [],
   "source": [
    "def laurelin_simple_test(laurelin_version, file):\n",
    "    spark_session = spark_session_startup()\n",
    "    df = laurelin_read_loading(laurelin_version, file)\n",
    "    env = Environment(loader=PackageLoader('coffea.processor',\n",
    "                                           'templates'),\n",
    "                      autoescape=select_autoescape(['py']))\n",
    "    columns = ['nMuon','Muon_pt','Muon_eta','Muon_phi','Muon_mass']\n",
    "    cols_w_ds = ['dataset','nMuon','Muon_pt','Muon_eta','Muon_phi','Muon_mass']\n",
    "    processor_instance = NanoTestProcessor(columns=columns)\n",
    "    tmpl = env.get_template('spark.py.tmpl')\n",
    "    render = tmpl.render(cols=columns)\n",
    "    exec(render)\n",
    "    histdf = df.select(coffea_udf(*cols_w_ds).alias('histos'))\n",
    "    pds = histdf.toPandas()\n",
    "    print(pds)"
   ]
  },
  {
   "cell_type": "code",
   "execution_count": null,
   "metadata": {
    "lines_to_next_cell": 1
   },
   "outputs": [],
   "source": [
    "@pytest.mark.benchmark(group=\"laurelin-simple-startup\")\n",
    "def test_spark_session_startup(benchmark):\n",
    "    benchmark(spark_session_startup)"
   ]
  },
  {
   "cell_type": "code",
   "execution_count": null,
   "metadata": {
    "lines_to_next_cell": 1
   },
   "outputs": [],
   "source": [
    "@pytest.mark.skip(reason=\"No way of currently testing this...\")\n",
    "@pytest.mark.benchmark(group=\"laurelin-simple-func\")\n",
    "@pytest.mark.parametrize(\"laurelin_version\", available_laurelin_version)\n",
    "def test_laurelin_read_loading(benchmark, laurelin_version):\n",
    "    benchmark(laurelin_read_loading, laurelin_version, file)"
   ]
  },
  {
   "cell_type": "code",
   "execution_count": null,
   "metadata": {
    "lines_to_next_cell": 1
   },
   "outputs": [],
   "source": [
    "@pytest.mark.skip(reason=\"No way of currently testing this...\")    \n",
    "@pytest.mark.benchmark(group=\"laurelin-simple-func\")\n",
    "@pytest.mark.parametrize(\"laurelin_version\", available_laurelin_version)\n",
    "def test_laurelin_read_select(benchmark, laurelin_version):\n",
    "    benchmark(laurelin_read_select, laurelin_version, file)"
   ]
  },
  {
   "cell_type": "code",
   "execution_count": null,
   "metadata": {
    "lines_to_next_cell": 1
   },
   "outputs": [],
   "source": [
    "@pytest.mark.skip(reason=\"No way of currently testing this...\")\n",
    "@pytest.mark.benchmark(group=\"laurelin-simple-func\")\n",
    "@pytest.mark.parametrize(\"laurelin_version\", available_laurelin_version)\n",
    "def test_laurelin_read_show(benchmark, laurelin_version):\n",
    "    benchmark(laurelin_read_show, laurelin_version, file)"
   ]
  },
  {
   "cell_type": "code",
   "execution_count": null,
   "metadata": {
    "lines_to_next_cell": 2
   },
   "outputs": [],
   "source": [
    "@pytest.mark.skip(reason=\"No way of currently testing this...\")    \n",
    "@pytest.mark.benchmark(group=\"laurelin-simple-func\")\n",
    "@pytest.mark.parametrize(\"laurelin_version\", available_laurelin_version)\n",
    "def test_laurelin_simple_test(benchmark, laurelin_version):\n",
    "    benchmark(laurelin_simple_test, laurelin_version, file)"
   ]
  }
 ],
 "metadata": {
  "jupytext": {
   "cell_metadata_filter": "-all",
   "main_language": "python",
   "notebook_metadata_filter": "-all"
  }
 },
 "nbformat": 4,
 "nbformat_minor": 2
}
