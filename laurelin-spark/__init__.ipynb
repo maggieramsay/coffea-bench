{
 "cells": [],
 "metadata": {
  "jupytext": {
   "cell_metadata_filter": "-all",
   "formats": "ipynb,py:light"
  }
 },
 "nbformat": 4,
 "nbformat_minor": 2
}
