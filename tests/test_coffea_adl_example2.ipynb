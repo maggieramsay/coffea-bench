{
 "cells": [
  {
   "cell_type": "code",
   "execution_count": null,
   "metadata": {},
   "outputs": [],
   "source": [
    "# Run this cell if you do not have coffea installed (e.g. on SWAN with LCG 96Python3 stack)\n",
    "# (for .py version -> next line should be commented since they are converted to ipybn via jupytext)\n",
    "!pip install --user --upgrade coffea\n",
    "# Preparation for testing\n",
    "!pip install --user --upgrade ipytest\n",
    "!pip install --user --upgrade pytest-benchmark"
   ]
  },
  {
   "cell_type": "code",
   "execution_count": null,
   "metadata": {},
   "outputs": [],
   "source": [
    "# For single-machine scheduler:\n",
    "# https://docs.dask.org/en/latest/setup.html\n",
    "# https://docs.dask.org/en/latest/setup/single-machine.html\n",
    "! pip install --user dask distributed dask-jobqueue --upgrade"
   ]
  },
  {
   "cell_type": "code",
   "execution_count": null,
   "metadata": {},
   "outputs": [],
   "source": [
    "# Uncomment this if you want to test Dask on UNL HTCCondor:  %env DASK_COFFEABENCH_SETUP=\"unl-htccondor\"\n",
    "# Uncomment this if you want to test Dask on UNL Tier3: %env DASK_COFFEABENCH_SETUP=\"unl-tier3\"\n",
    "# Uncomment this if you want to test Dask locally:  %env DASK_COFFEABENCH_SETUP=\"local\"\n",
    "%env"
   ]
  },
  {
   "cell_type": "code",
   "execution_count": null,
   "metadata": {
    "lines_to_next_cell": 2
   },
   "outputs": [],
   "source": [
    "# spark.jars.packages doesnt work with Spark 2.4 with kubernetes\n",
    "!wget -N https://repo1.maven.org/maven2/edu/vanderbilt/accre/laurelin/1.0.0/laurelin-1.0.0.jar\n",
    "!wget -N https://repo1.maven.org/maven2/org/apache/logging/log4j/log4j-api/2.11.2/log4j-api-2.11.2.jar\n",
    "!wget -N https://repo1.maven.org/maven2/org/apache/logging/log4j/log4j-core/2.11.2/log4j-core-2.11.2.jar\n",
    "!wget -N https://repo1.maven.org/maven2/org/lz4/lz4-java/1.5.1/lz4-java-1.5.1.jar\n",
    "!wget -N https://repo1.maven.org/maven2/org/tukaani/xz/1.2/xz-1.2.jar"
   ]
  },
  {
   "cell_type": "code",
   "execution_count": null,
   "metadata": {},
   "outputs": [],
   "source": [
    "# Uncomment this if you want to test Dask:  %env DASK_COFFEABENCH=1\n",
    "# Uncomment this if you want to test Spark: %env PYSPARK_COFFEABENCH=1\n",
    "# Uncomment this if you want to test uproot:  %env UPROOT_COFFEABENCH=1\n",
    "%env"
   ]
  },
  {
   "cell_type": "code",
   "execution_count": null,
   "metadata": {
    "lines_to_next_cell": 2
   },
   "outputs": [],
   "source": [
    "if hasattr(__builtins__,'__IPYTHON__'):\n",
    "    import os\n",
    "    import ipytest\n",
    "    ipytest.config(rewrite_asserts=True, magics=True)\n",
    "    __file__ = 'test_coffea_adl_example2.ipynb'\n",
    "    # Run this cell before establishing spark connection <<<<< IMPORTANT\n",
    "    os.environ['PYTHONPATH'] = os.environ['PYTHONPATH'] + ':' + '/usr/local/lib/python3.6/site-packages'\n",
    "    os.environ['PATH'] = os.environ['PATH'] + ':' + '/eos/user/o/oshadura/.local/bin'"
   ]
  },
  {
   "cell_type": "code",
   "execution_count": null,
   "metadata": {},
   "outputs": [],
   "source": [
    "import psutil\n",
    "import pytest\n",
    "import os"
   ]
  },
  {
   "cell_type": "code",
   "execution_count": null,
   "metadata": {},
   "outputs": [],
   "source": [
    "from coffea import hist\n",
    "from coffea.analysis_objects import JaggedCandidateArray\n",
    "import coffea.processor as processor"
   ]
  },
  {
   "cell_type": "code",
   "execution_count": null,
   "metadata": {},
   "outputs": [],
   "source": [
    "if 'PYSPARK_COFFEABENCH' in os.environ and os.environ[\"PYSPARK_COFFEABENCH\"] == '1':\n",
    "    import pyspark.sql\n",
    "    from pyarrow.compat import guid\n",
    "    from coffea.processor.spark.detail import _spark_initialize, _spark_stop\n",
    "    from coffea.processor.spark.spark_executor import spark_executor"
   ]
  },
  {
   "cell_type": "code",
   "execution_count": null,
   "metadata": {
    "lines_to_next_cell": 2
   },
   "outputs": [],
   "source": [
    "available_laurelin_version = [(\"edu.vanderbilt.accre:laurelin:1.0.0\")]"
   ]
  },
  {
   "cell_type": "code",
   "execution_count": null,
   "metadata": {},
   "outputs": [],
   "source": [
    "if 'DASK_COFFEABENCH' in os.environ and os.environ[\"DASK_COFFEABENCH\"] == '1':\n",
    "    from dask.distributed import Client, LocalCluster\n",
    "    from dask_jobqueue import HTCondorCluster"
   ]
  },
  {
   "cell_type": "code",
   "execution_count": null,
   "metadata": {
    "lines_to_next_cell": 1
   },
   "outputs": [],
   "source": [
    "fileset = {\n",
    "    'Jets': { 'files': ['root://eospublic.cern.ch//eos/root-eos/benchmark/Run2012B_SingleMu.root'],\n",
    "             'treename': 'Events'\n",
    "            }\n",
    "}"
   ]
  },
  {
   "cell_type": "code",
   "execution_count": null,
   "metadata": {
    "lines_to_next_cell": 1
   },
   "outputs": [],
   "source": [
    "# This program plots a per-event array (in this case, Jet pT). In Coffea, this is not very dissimilar from the event-level process.\n",
    "class JetProcessor(processor.ProcessorABC):\n",
    "    def __init__(self):\n",
    "        self._columns = ['MET_pt', 'Jet_pt']\n",
    "        dataset_axis = hist.Cat(\"dataset\", \"\")\n",
    "        Jet_axis = hist.Bin(\"Jet_pt\", \"Jet_pt [GeV]\", 100, 15, 60)   \n",
    "        self._accumulator = processor.dict_accumulator({\n",
    "            'Jet_pt': hist.Hist(\"Counts\", dataset_axis, Jet_axis),\n",
    "            'cutflow': processor.defaultdict_accumulator(int)\n",
    "        })\n",
    "    \n",
    "    @property\n",
    "    def columns(self):\n",
    "        return self._columns\n",
    "    \n",
    "    @property\n",
    "    def accumulator(self):\n",
    "        return self._accumulator\n",
    "    \n",
    "    def process(self, df):\n",
    "        output = self.accumulator.identity()\n",
    "        dataset = df['dataset']\n",
    "        Jet_pt = df['Jet_pt']\n",
    "        # As before, we can get the number of events by checking the size of the array. To get the number of jets, which varies per event, though, we need to count up the number in each event, and then sum those counts (count subarray sizes, sum them).\n",
    "        output['cutflow']['all events'] += Jet_pt.size\n",
    "        output['cutflow']['all jets'] += Jet_pt.counts.sum()\n",
    "        output['Jet_pt'].fill(dataset=dataset, Jet_pt=Jet_pt.flatten())\n",
    "        return output\n",
    "\n",
    "    def postprocess(self, accumulator):\n",
    "        return accumulator"
   ]
  },
  {
   "cell_type": "code",
   "execution_count": null,
   "metadata": {
    "lines_to_next_cell": 1
   },
   "outputs": [],
   "source": [
    "def coffea_laurelin_adl_example2(laurelin_version, n_workers, partition_size):\n",
    "    spark_config = pyspark.sql.SparkSession.builder \\\n",
    "        .appName('spark-executor-test-%s' % guid()) \\\n",
    "        .master('local[*]') \\\n",
    "        .config('spark.driver.memory', '4g') \\\n",
    "        .config('spark.executor.memory', '6g') \\\n",
    "        .config('spark.sql.execution.arrow.enabled','true') \\\n",
    "        .config('spark.sql.execution.arrow.maxRecordsPerBatch', partition_size)\\\n",
    "        .config('spark.kubernetes.container.image.pullPolicy', 'true')\\\n",
    "        .config('spark.kubernetes.container.image', 'gitlab-registry.cern.ch/db/spark-service/docker-registry/swan:laurelin')\\\n",
    "        .config('spark.kubernetes.memoryOverheadFactor', '0.1')\n",
    "\n",
    "    spark = _spark_initialize(config=spark_config, log_level='WARN', \n",
    "                          spark_progress=False, laurelin_version='1.0.1-SNAPSHOT')\n",
    "    \n",
    "    output = processor.run_spark_job(fileset,\n",
    "                                     JetProcessor(),\n",
    "                                     spark_executor,\n",
    "                                     spark=spark,\n",
    "                                     partitionsize=partition_size,\n",
    "                                     thread_workers=n_workers,\n",
    "                                     executor_args={'file_type': 'edu.vanderbilt.accre.laurelin.Root', 'cache': False})"
   ]
  },
  {
   "cell_type": "code",
   "execution_count": null,
   "metadata": {},
   "outputs": [],
   "source": [
    "if 'PYSPARK_COFFEABENCH' in os.environ and os.environ[\"PYSPARK_COFFEABENCH\"] == '1':\n",
    "    @pytest.mark.benchmark(group=\"coffea-laurelin-adl-example2\")\n",
    "    @pytest.mark.parametrize(\"laurelin_version\", available_laurelin_version)\n",
    "    @pytest.mark.parametrize(\"n_workers\", range(1,psutil.cpu_count(logical=False)))\n",
    "    @pytest.mark.parametrize(\"partition_size\", range(200000,500000,200000))\n",
    "    def test_coffea_laurelin_adlexample2(benchmark, laurelin_version, n_workers, partition_size):\n",
    "        benchmark(coffea_laurelin_adl_example2, available_laurelin_version, n_workers, partition_size)"
   ]
  },
  {
   "cell_type": "code",
   "execution_count": null,
   "metadata": {
    "lines_to_next_cell": 1
   },
   "outputs": [],
   "source": [
    "if 'DASK_COFFEABENCH' in os.environ and os.environ[\"DASK_COFFEABENCH\"] == '1':\n",
    "    def test_dask_adlexample2(benchmark):\n",
    "        @benchmark\n",
    "        def coffea_dask_adlexample2(n_cores=2):\n",
    "        # Dask settings (three different cases)\n",
    "            if os.environ[\"DASK_COFFEABENCH_SETUP\"] == 'unl-tier3':\n",
    "                client = Client(\"t3.unl.edu:8786\")\n",
    "            if os.environ[\"DASK_COFFEABENCH_SETUP\"] == 'unl-htccondor':\n",
    "                cluster = HTCondorCluster(cores=n_cores, memory=\"2GB\",disk=\"1GB\",dashboard_address=9998)\n",
    "                cluster.scale(jobs=5)\n",
    "                client = Client(cluster)\n",
    "            if os.environ[\"DASK_COFFEABENCH_SETUP\"] == 'local':\n",
    "                client = Client()\n",
    "            cachestrategy = 'dask-worker'\n",
    "            exe_args = {\n",
    "                'client': client,\n",
    "                'nano': True,\n",
    "                'cachestrategy': cachestrategy,\n",
    "                'savemetrics': True,\n",
    "                'worker_affinity': True if cachestrategy is not None else False,\n",
    "            }\n",
    "            output = processor.run_uproot_job(fileset,\n",
    "                                      treename = 'Events',\n",
    "                                      processor_instance = JetProcessor(),\n",
    "                                      executor = processor.dask_executor,\n",
    "                                      executor_args = exe_args                                 \n",
    "            )\n",
    "            return output  "
   ]
  },
  {
   "cell_type": "code",
   "execution_count": null,
   "metadata": {
    "lines_to_next_cell": 1
   },
   "outputs": [],
   "source": [
    "def coffea_uproot_adlexample2(n_workers, chunk_size, maxchunk_size):\n",
    "    output = processor.run_uproot_job(fileset,\n",
    "                                      treename = 'Events',\n",
    "                                      processor_instance = JetProcessor(),\n",
    "                                      executor = processor.futures_executor,\n",
    "                                      chunksize = chunk_size,\n",
    "                                      maxchunks = maxchunk_size,\n",
    "                                      executor_args = {'workers': n_workers}                                   \n",
    "    ) "
   ]
  },
  {
   "cell_type": "code",
   "execution_count": null,
   "metadata": {},
   "outputs": [],
   "source": [
    "if 'UPROOT_COFFEABENCH' in os.environ and os.environ[\"UPROOT_COFFEABENCH\"] == '1':\n",
    "    @pytest.mark.benchmark(group=\"coffea-uproot-adl-example2\")\n",
    "    @pytest.mark.parametrize(\"n_workers\", range(1,psutil.cpu_count(logical=False)))\n",
    "    @pytest.mark.parametrize(\"chunk_size\", range(200000,500000,200000))\n",
    "    @pytest.mark.parametrize(\"maxchunk_size\", range(300000,600000,200000))\n",
    "    def test_uproot_adlexample2(benchmark, n_workers, chunk_size, maxchunk_size):\n",
    "        benchmark(coffea_uproot_adlexample2, n_workers, chunk_size, maxchunk_size)"
   ]
  },
  {
   "cell_type": "code",
   "execution_count": null,
   "metadata": {},
   "outputs": [],
   "source": [
    "if hasattr(__builtins__,'__IPYTHON__'):\n",
    "    ipytest.run('-qq')"
   ]
  }
 ],
 "metadata": {
  "jupytext": {
   "cell_metadata_filter": "-all",
   "formats": "ipynb,py",
   "main_language": "python"
  }
 },
 "nbformat": 4,
 "nbformat_minor": 2
}
